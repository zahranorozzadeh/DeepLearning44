{
  "nbformat": 4,
  "nbformat_minor": 0,
  "metadata": {
    "colab": {
      "name": "pishpardazesh_axha.ipynb",
      "provenance": [],
      "mount_file_id": "1KNt6scz1OTBU7KzZYYrcy91B8mflu2hi",
      "authorship_tag": "ABX9TyO2T/MI8FYT6nBWOtRuZ1rv",
      "include_colab_link": true
    },
    "kernelspec": {
      "name": "python3",
      "display_name": "Python 3"
    },
    "language_info": {
      "name": "python"
    }
  },
  "cells": [
    {
      "cell_type": "markdown",
      "metadata": {
        "id": "view-in-github",
        "colab_type": "text"
      },
      "source": [
        "<a href=\"https://colab.research.google.com/github/zahranorozzadeh/DeepLearning44/blob/main/pishpardazesh_axha.ipynb\" target=\"_parent\"><img src=\"https://colab.research.google.com/assets/colab-badge.svg\" alt=\"Open In Colab\"/></a>"
      ]
    },
    {
      "cell_type": "code",
      "metadata": {
        "id": "qqSQOfw0_1m3"
      },
      "source": [
        "pip install retina-face\n",
        "\n"
      ],
      "execution_count": null,
      "outputs": []
    },
    {
      "cell_type": "code",
      "metadata": {
        "colab": {
          "base_uri": "https://localhost:8080/"
        },
        "id": "LZzJ7y_zF8gb",
        "outputId": "7c386e80-1784-4d73-d922-156dacf51e62"
      },
      "source": [
        "from google.colab import drive\n",
        "drive.mount('/content/drive')"
      ],
      "execution_count": null,
      "outputs": [
        {
          "output_type": "stream",
          "name": "stdout",
          "text": [
            "Drive already mounted at /content/drive; to attempt to forcibly remount, call drive.mount(\"/content/drive\", force_remount=True).\n"
          ]
        }
      ]
    },
    {
      "cell_type": "code",
      "metadata": {
        "id": "Kn74E5UQGUkw"
      },
      "source": [
        "from retinaface import RetinaFace\n",
        "import os\n",
        "import cv2"
      ],
      "execution_count": null,
      "outputs": []
    },
    {
      "cell_type": "code",
      "metadata": {
        "id": "z1v4otXlACY9"
      },
      "source": [
        "\n",
        "resp = RetinaFace.detect_faces(\"img1.jpg\")\n"
      ],
      "execution_count": 26,
      "outputs": []
    },
    {
      "cell_type": "code",
      "metadata": {
        "id": "3Qkt1p1OASMd",
        "colab": {
          "base_uri": "https://localhost:8080/"
        },
        "outputId": "659c3bee-fe7b-4576-e252-5405a2177ea8"
      },
      "source": [
        "{\n",
        "    \"face_1\": {\n",
        "        \"score\": 0.9993440508842468,\n",
        "        \"facial_area\": [155, 81, 434, 443],\n",
        "        \"landmarks\": {\n",
        "          \"right_eye\": [257.82974, 209.64787],\n",
        "          \"left_eye\": [374.93427, 251.78687],\n",
        "          \"nose\": [303.4773, 299.91144],\n",
        "          \"mouth_right\": [228.37329, 338.73193],\n",
        "          \"mouth_left\": [320.21982, 374.58798]\n",
        "        }\n",
        "  }\n",
        "}\n"
      ],
      "execution_count": 20,
      "outputs": [
        {
          "output_type": "execute_result",
          "data": {
            "text/plain": [
              "{'face_1': {'facial_area': [155, 81, 434, 443],\n",
              "  'landmarks': {'left_eye': [374.93427, 251.78687],\n",
              "   'mouth_left': [320.21982, 374.58798],\n",
              "   'mouth_right': [228.37329, 338.73193],\n",
              "   'nose': [303.4773, 299.91144],\n",
              "   'right_eye': [257.82974, 209.64787]},\n",
              "  'score': 0.9993440508842468}}"
            ]
          },
          "metadata": {},
          "execution_count": 20
        }
      ]
    },
    {
      "cell_type": "code",
      "metadata": {
        "id": "AZubYbkPArqj"
      },
      "source": [
        "import matplotlib.pyplot as plt\n",
        "faces = RetinaFace.extract_faces(img_path = \"img.jpg\", align = True)\n",
        "for face in faces:\n",
        "  plt.imshow(face)\n",
        "  plt.show()"
      ],
      "execution_count": 25,
      "outputs": []
    },
    {
      "cell_type": "code",
      "metadata": {
        "id": "4Z5x-UNyA6xI"
      },
      "source": [
        "#!pip install deepface\n",
        "from deepface import DeepFace\n",
        "obj = DeepFace.verify(\"img1.jpg\", \"img2.jpg\"\n",
        "          , model_name = 'ArcFace', detector_backend = 'retinaface')\n",
        "print(obj[\"verified\"])"
      ],
      "execution_count": null,
      "outputs": []
    }
  ]
}